{
 "cells": [
  {
   "cell_type": "markdown",
   "metadata": {
    "toc": true
   },
   "source": [
    "<h1>Table of Contents<span class=\"tocSkip\"></span></h1>\n",
    "</li></ul></li></ul></li><li><span><a href=\"#Part-1\" data-toc-modified-id=\"Part-1-2\">Part 1</a></span><ul class=\"toc-item\"><li><span><a href=\"#(a)-Go-to-http://www.omdbapi.com/-and-make-yourself-familiar-with-the-API-and-its-use.\" data-toc-modified-id=\"(a)-Go-to-http://www.omdbapi.com/-and-make-yourself-familiar-with-the-API-and-its-use.-2.1\">(a) Go to <a href=\"http://www.omdbapi.com/\" target=\"_blank\">http://www.omdbapi.com/</a> and make yourself familiar with the API and its use.</a></span></li><li><span><a href=\"#Parameters\" data-toc-modified-id=\"Parameters-2.2\">Parameters</a></span><ul class=\"toc-item\"><li><ul class=\"toc-item\"><li><span><a href=\"#By-ID-or-Title\" data-toc-modified-id=\"By-ID-or-Title-2.2.0.1\">By ID or Title</a></span></li><li><span><a href=\"#By-Search\" data-toc-modified-id=\"By-Search-2.2.0.2\">By Search</a></span></li></ul></li></ul></li><li><span><a href=\"#(b)-Write-a-program-in-Python-or-Java-that-executes-the-above-API-call-and-prints-the-result-to-the-screen.\" data-toc-modified-id=\"(b)-Write-a-program-in-Python-or-Java-that-executes-the-above-API-call-and-prints-the-result-to-the-screen.-2.3\">(b) Write a program in Python or Java that executes the above API call and prints the result to the screen.</a></span></li><li><span><a href=\"#(c)-Parse-the-JSON-string-in-(b)-to-an-internal-Python-or-Java-object-for-further-handling.\" data-toc-modified-id=\"(c)-Parse-the-JSON-string-in-(b)-to-an-internal-Python-or-Java-object-for-further-handling.-2.4\">(c) Parse the JSON string in (b) to an internal Python or Java object for further handling.</a></span></li></ul></li><li><span><a href=\"#Part-2\" data-toc-modified-id=\"Part-2-3\">Part 2</a></span><ul class=\"toc-item\"><li><span><a href=\"#(d)-Write-a-small-program-in-Python-or-Java-that\" data-toc-modified-id=\"(d)-Write-a-small-program-in-Python-or-Java-that-3.1\">(d) Write a small program in Python or Java that</a></span><ul class=\"toc-item\"><li><span><a href=\"#(i)-connects-to-your-local-SQL-instance\" data-toc-modified-id=\"(i)-connects-to-your-local-SQL-instance-3.1.1\">(i) connects to your local SQL instance</a></span></li><li><span><a href=\"#(ii)-creates-a-database-named-&quot;ucdavis&quot;\" data-toc-modified-id=\"(ii)-creates-a-database-named-&quot;ucdavis&quot;-3.1.2\">(ii) creates a database named \"ucdavis\"</a></span></li><li><span><a href=\"#(iii)-creates-the-table-&quot;omdb_test&quot;-containing-the-columns-&quot;imdb_id&quot;,-&quot;title&quot;,-and-&quot;year&quot;.\" data-toc-modified-id=\"(iii)-creates-the-table-&quot;omdb_test&quot;-containing-the-columns-&quot;imdb_id&quot;,-&quot;title&quot;,-and-&quot;year&quot;.-3.1.3\">(iii) creates the table \"omdb_test\" containing the columns \"imdb_id\", \"title\", and \"year\"."
   ]
  },
  {
   "cell_type": "code",
   "execution_count": 151,
   "metadata": {
    "ExecuteTime": {
     "end_time": "2020-01-29T01:48:57.978988Z",
     "start_time": "2020-01-29T01:48:57.975924Z"
    }
   },
   "outputs": [],
   "source": [
    "import pandas as pd\n",
    "import requests, json, time, urllib\n",
    "from IPython.display import HTML\n",
    "import mysql.connector\n",
    "from sqlalchemy import create_engine"
   ]
  },
  {
   "cell_type": "markdown",
   "metadata": {},
   "source": [
    "# Part 1"
   ]
  },
  {
   "cell_type": "markdown",
   "metadata": {},
   "source": [
    "## (a) Go to http://www.omdbapi.com/ and make yourself familiar with the API and its use.\n",
    "Request an API Key from the page. Specifically, read \"Usage\", \"Parameters\", and \"Examples\", and write down the URL string that would search for all the movies containing the word \"blade\". Include it as a comment in your code script."
   ]
  },
  {
   "cell_type": "markdown",
   "metadata": {},
   "source": [
    "<div class=\"bs-docs-section\" id=\"parameters\">\n",
    "            <div class=\"row\">\n",
    "                <div class=\"col-lg-12\">\n",
    "                    <div class=\"page-header\">\n",
    "                        <h2>Parameters</h2>\n",
    "                    </div>\n",
    "                </div>\n",
    "            </div>\n",
    "            <div class=\"row\">\n",
    "                <div class=\"col-lg-12\">\n",
    "                    <div class=\"bs-component\">\n",
    "                        <h4>By ID or Title</h4>\n",
    "                        <table class=\"table table-bordered table-striped table-hover\">\n",
    "                            <thead>\n",
    "                                <tr>\n",
    "                                    <th>Parameter</th>\n",
    "                                    <th>Required</th>\n",
    "                                    <th>Valid Options</th>\n",
    "                                    <th>Default Value</th>\n",
    "                                    <th>Description</th>\n",
    "                                </tr>\n",
    "                            </thead>\n",
    "                            <tbody>\n",
    "                                <tr>\n",
    "                                    <td>i</td>\n",
    "                                    <td><span class=\"label label-success\">Optional*</span></td>\n",
    "                                    <td></td>\n",
    "                                    <td>&lt;empty&gt;</td>\n",
    "                                    <td>A valid IMDb ID (e.g. tt1285016)</td>\n",
    "                                </tr>\n",
    "                                <tr>\n",
    "                                    <td>t</td>\n",
    "                                    <td><span class=\"label label-success\">Optional*</span></td>\n",
    "                                    <td></td>\n",
    "                                    <td>&lt;empty&gt;</td>\n",
    "                                    <td>Movie title to search for.</td>\n",
    "                                </tr>\n",
    "                                <tr>\n",
    "                                    <td>type</td>\n",
    "                                    <td><span class=\"label label-default\">No</span></td>\n",
    "                                    <td>movie, series, episode</td>\n",
    "                                    <td>&lt;empty&gt;</td>\n",
    "                                    <td>Type of result to return.</td>\n",
    "                                </tr>\n",
    "                                <tr>\n",
    "                                    <td>y</td>\n",
    "                                    <td><span class=\"label label-default\">No</span></td>\n",
    "                                    <td></td>\n",
    "                                    <td>&lt;empty&gt;</td>\n",
    "                                    <td>Year of release.</td>\n",
    "                                </tr>\n",
    "                                <tr>\n",
    "                                    <td>plot</td>\n",
    "                                    <td><span class=\"label label-default\">No</span></td>\n",
    "                                    <td>short, full</td>\n",
    "                                    <td>short</td>\n",
    "                                    <td>Return short or full plot.</td>\n",
    "                                </tr>\n",
    "                                <tr>\n",
    "                                    <td>r</td>\n",
    "                                    <td><span class=\"label label-default\">No</span></td>\n",
    "                                    <td>json, xml</td>\n",
    "                                    <td>json</td>\n",
    "                                    <td>The data type to return.</td>\n",
    "                                </tr>\n",
    "                                <tr>\n",
    "                                    <td>callback</td>\n",
    "                                    <td><span class=\"label label-default\">No</span></td>\n",
    "                                    <td></td>\n",
    "                                    <td>&lt;empty&gt;</td>\n",
    "                                    <td>JSONP callback name.</td>\n",
    "                                </tr>\n",
    "                                <tr>\n",
    "                                    <td>v</td>\n",
    "                                    <td><span class=\"label label-default\">No</span></td>\n",
    "                                    <td></td>\n",
    "                                    <td>1</td>\n",
    "                                    <td>API version (reserved for future use).</td>\n",
    "                                </tr>\n",
    "                            </tbody>\n",
    "                        </table>\n",
    "                        <small>*Please note while both \"i\" and \"t\" are optional at least one argument is required.</small>\n",
    "                    </div>\n",
    "                </div>\n",
    "            </div>\n",
    "            <hr>\n",
    "            <div class=\"row\">\n",
    "                <div class=\"col-lg-12\">\n",
    "                    <div class=\"bs-component\">\n",
    "                        <h4>By Search</h4>\n",
    "                        <table class=\"table table-bordered table-striped table-hover\">\n",
    "                            <thead>\n",
    "                                <tr>\n",
    "                                    <th>Parameter</th>\n",
    "                                    <th>Required</th>\n",
    "                                    <th>Valid options</th>\n",
    "                                    <th>Default Value</th>\n",
    "                                    <th>Description</th>\n",
    "                                </tr>\n",
    "                            </thead>\n",
    "                            <tbody>\n",
    "                                <tr>\n",
    "                                    <td>s</td>\n",
    "                                    <td><span class=\"label label-success\">Yes</span></td>\n",
    "                                    <td></td>\n",
    "                                    <td>&lt;empty&gt;</td>\n",
    "                                    <td>Movie title to search for.</td>\n",
    "                                </tr>\n",
    "                                <tr>\n",
    "                                    <td>type</td>\n",
    "                                    <td><span class=\"label label-default\">No</span></td>\n",
    "                                    <td>movie, series, episode</td>\n",
    "                                    <td>&lt;empty&gt;</td>\n",
    "                                    <td>Type of result to return.</td>\n",
    "                                </tr>\n",
    "                                <tr>\n",
    "                                    <td>y</td>\n",
    "                                    <td><span class=\"label label-default\">No</span></td>\n",
    "                                    <td></td>\n",
    "                                    <td>&lt;empty&gt;</td>\n",
    "                                    <td>Year of release.</td>\n",
    "                                </tr>\n",
    "                                <tr>\n",
    "                                    <td>r</td>\n",
    "                                    <td><span class=\"label label-default\">No</span></td>\n",
    "                                    <td>json, xml</td>\n",
    "                                    <td>json</td>\n",
    "                                    <td>The data type to return.</td>\n",
    "                                </tr>\n",
    "                                <tr>\n",
    "                                    <td>page <span class=\"label label-info\">New!</span></td>\n",
    "                                    <td><span class=\"label label-default\">No</span></td>\n",
    "                                    <td>1-100</td>\n",
    "                                    <td>1</td>\n",
    "                                    <td>Page number to return.</td>\n",
    "                                </tr>\n",
    "                                <tr>\n",
    "                                    <td>callback</td>\n",
    "                                    <td><span class=\"label label-default\">No</span></td>\n",
    "                                    <td></td>\n",
    "                                    <td>&lt;empty&gt;</td>\n",
    "                                    <td>JSONP callback name.</td>\n",
    "                                </tr>\n",
    "                                <tr>\n",
    "                                    <td>v</td>\n",
    "                                    <td><span class=\"label label-default\">No</span></td>\n",
    "                                    <td></td>\n",
    "                                    <td>1</td>\n",
    "                                    <td>API version (reserved for future use).</td>\n",
    "                                </tr>\n",
    "                            </tbody>\n",
    "                        </table>\n",
    "                    </div>\n",
    "                </div>\n",
    "            </div>\n",
    "        </div>"
   ]
  },
  {
   "cell_type": "markdown",
   "metadata": {},
   "source": [
    "<div class=\"alert alert-block alert-info\">\n",
    "    The URL params that would be required to search for all movies containing Blade in the Title would be to pass <b>s: blade</b> to the API. Which would make the API url, <a><b>http://www.omdbapi.com/?apikey=8ce17bed&s=blade</b></a>\n",
    "</div>"
   ]
  },
  {
   "cell_type": "markdown",
   "metadata": {},
   "source": [
    "## (b) Write a program in Python or Java that executes the above API call and prints the result to the screen.\n",
    "You can use the parameters \"Plot: Short\" and \"Response: JSON\". (0.1 bonus points: make your code pretty-print the returned JSON. You may use a package to do so.)"
   ]
  },
  {
   "cell_type": "code",
   "execution_count": 13,
   "metadata": {
    "ExecuteTime": {
     "end_time": "2020-01-28T02:16:32.291578Z",
     "start_time": "2020-01-28T02:16:32.287975Z"
    }
   },
   "outputs": [],
   "source": [
    "API_endpoint = 'http://www.omdbapi.com/?apikey=8ce17bed&'"
   ]
  },
  {
   "cell_type": "code",
   "execution_count": 16,
   "metadata": {
    "ExecuteTime": {
     "end_time": "2020-01-28T02:17:19.234287Z",
     "start_time": "2020-01-28T02:17:19.152499Z"
    },
    "scrolled": true
   },
   "outputs": [
    {
     "name": "stdout",
     "output_type": "stream",
     "text": [
      "{\n",
      "    \"Response\": \"True\",\n",
      "    \"Search\": [\n",
      "        {\n",
      "            \"Poster\": \"https://m.media-amazon.com/images/M/MV5BNzQzMzJhZTEtOWM4NS00MTdhLTg0YjgtMjM4MDRkZjUwZDBlXkEyXkFqcGdeQXVyNjU0OTQ0OTY@._V1_SX300.jpg\",\n",
      "            \"Title\": \"Blade Runner\",\n",
      "            \"Type\": \"movie\",\n",
      "            \"Year\": \"1982\",\n",
      "            \"imdbID\": \"tt0083658\"\n",
      "        },\n",
      "        {\n",
      "            \"Poster\": \"https://m.media-amazon.com/images/M/MV5BNzA1Njg4NzYxOV5BMl5BanBnXkFtZTgwODk5NjU3MzI@._V1_SX300.jpg\",\n",
      "            \"Title\": \"Blade Runner 2049\",\n",
      "            \"Type\": \"movie\",\n",
      "            \"Year\": \"2017\",\n",
      "            \"imdbID\": \"tt1856101\"\n",
      "        },\n",
      "        {\n",
      "            \"Poster\": \"https://m.media-amazon.com/images/M/MV5BOTk2NDNjZWQtMGY0Mi00YTY2LWE5MzctMGRhZmNlYzljYTg5XkEyXkFqcGdeQXVyMTAyNjg4NjE0._V1_SX300.jpg\",\n",
      "            \"Title\": \"Blade\",\n",
      "            \"Type\": \"movie\",\n",
      "            \"Year\": \"1998\",\n",
      "            \"imdbID\": \"tt0120611\"\n",
      "        },\n",
      "        {\n",
      "            \"Poster\": \"https://m.media-amazon.com/images/M/MV5BOWVjZTIzNDYtNTBlNC00NTJjLTkzOTEtOTE0MjlhYzI2YTcyXkEyXkFqcGdeQXVyNTAyODkwOQ@@._V1_SX300.jpg\",\n",
      "            \"Title\": \"Blade II\",\n",
      "            \"Type\": \"movie\",\n",
      "            \"Year\": \"2002\",\n",
      "            \"imdbID\": \"tt0187738\"\n",
      "        },\n",
      "        {\n",
      "            \"Poster\": \"https://m.media-amazon.com/images/M/MV5BMjE0Nzg2MzI3MF5BMl5BanBnXkFtZTYwMjExODQ3._V1_SX300.jpg\",\n",
      "            \"Title\": \"Blade: Trinity\",\n",
      "            \"Type\": \"movie\",\n",
      "            \"Year\": \"2004\",\n",
      "            \"imdbID\": \"tt0359013\"\n",
      "        },\n",
      "        {\n",
      "            \"Poster\": \"https://m.media-amazon.com/images/M/MV5BNGY5NWIxMjAtODBjNC00MmZhLTk1ZTAtNGRhYThlOTNjMTQwXkEyXkFqcGdeQXVyNTc1NTQxODI@._V1_SX300.jpg\",\n",
      "            \"Title\": \"Sling Blade\",\n",
      "            \"Type\": \"movie\",\n",
      "            \"Year\": \"1996\",\n",
      "            \"imdbID\": \"tt0117666\"\n",
      "        },\n",
      "        {\n",
      "            \"Poster\": \"https://m.media-amazon.com/images/M/MV5BMTk0MjgxOTQ5MF5BMl5BanBnXkFtZTgwODA3NTUwNjE@._V1_SX300.jpg\",\n",
      "            \"Title\": \"Dragon Blade\",\n",
      "            \"Type\": \"movie\",\n",
      "            \"Year\": \"2015\",\n",
      "            \"imdbID\": \"tt3672840\"\n",
      "        },\n",
      "        {\n",
      "            \"Poster\": \"https://m.media-amazon.com/images/M/MV5BYzIwYmJlMjktMzJiMy00YmQzLThmNWYtNWY3NGViZjc4MzYwXkEyXkFqcGdeQXVyNDQxNjcxNQ@@._V1_SX300.jpg\",\n",
      "            \"Title\": \"Blade of the Immortal\",\n",
      "            \"Type\": \"movie\",\n",
      "            \"Year\": \"2017\",\n",
      "            \"imdbID\": \"tt5084170\"\n",
      "        },\n",
      "        {\n",
      "            \"Poster\": \"https://m.media-amazon.com/images/M/MV5BNjZhMTNmMTItNmU4Mi00YTdkLWFkZWUtOGExNTQ3MGRiYWYyXkEyXkFqcGdeQXVyNzI1NzMxNzM@._V1_SX300.jpg\",\n",
      "            \"Title\": \"Shinobi: Heart Under Blade\",\n",
      "            \"Type\": \"movie\",\n",
      "            \"Year\": \"2005\",\n",
      "            \"imdbID\": \"tt0475723\"\n",
      "        },\n",
      "        {\n",
      "            \"Poster\": \"https://m.media-amazon.com/images/M/MV5BZGNiNmNiMTctMDI4OS00OWYxLWE4ZWEtZjFkZjU4ZmY5YzEyXkEyXkFqcGdeQXVyMzgxODM4NjM@._V1_SX300.jpg\",\n",
      "            \"Title\": \"Blade Runner: Black Out 2022\",\n",
      "            \"Type\": \"movie\",\n",
      "            \"Year\": \"2017\",\n",
      "            \"imdbID\": \"tt7428594\"\n",
      "        }\n",
      "    ],\n",
      "    \"totalResults\": \"228\"\n",
      "}\n"
     ]
    }
   ],
   "source": [
    "search_term = 'blade'\n",
    "\n",
    "\n",
    "## commenting out response type and plot params as their default values are the same as what we require\n",
    "params = {\n",
    "    's':search_term,\n",
    "#     'plot': 'short',\n",
    "#     'r':'json'\n",
    "}\n",
    "\n",
    "urlencoded_params = urllib.parse.urlencode(params)\n",
    "\n",
    "r = requests.get(API_endpoint+urlencoded_params)\n",
    "print(json.dumps(r.json(), indent=4, sort_keys=True))"
   ]
  },
  {
   "cell_type": "markdown",
   "metadata": {},
   "source": [
    "## (c) Parse the JSON string in (b) to an internal Python or Java object for further handling. \n",
    "Then write code that iterates through the search results and prints the imdbID results to the screen."
   ]
  },
  {
   "cell_type": "code",
   "execution_count": 152,
   "metadata": {
    "ExecuteTime": {
     "end_time": "2020-01-29T01:49:35.644325Z",
     "start_time": "2020-01-29T01:49:35.639335Z"
    }
   },
   "outputs": [
    {
     "data": {
      "text/plain": [
       "dict"
      ]
     },
     "execution_count": 152,
     "metadata": {},
     "output_type": "execute_result"
    }
   ],
   "source": [
    "results = r.json()\n",
    "type(results)"
   ]
  },
  {
   "cell_type": "markdown",
   "metadata": {},
   "source": [
    "> Prints the 10 results returned in the first API, we can iterate through `Page` parameter to get all the pages of results(228 as indicated by the `totalResults` key in the response)\n"
   ]
  },
  {
   "cell_type": "code",
   "execution_count": 24,
   "metadata": {
    "ExecuteTime": {
     "end_time": "2020-01-28T02:41:30.983330Z",
     "start_time": "2020-01-28T02:41:30.976186Z"
    }
   },
   "outputs": [
    {
     "name": "stdout",
     "output_type": "stream",
     "text": [
      "Blade Runner \n",
      "imdb ID:  tt0083658 \n",
      "\n",
      "Blade Runner 2049 \n",
      "imdb ID:  tt1856101 \n",
      "\n",
      "Blade \n",
      "imdb ID:  tt0120611 \n",
      "\n",
      "Blade II \n",
      "imdb ID:  tt0187738 \n",
      "\n",
      "Blade: Trinity \n",
      "imdb ID:  tt0359013 \n",
      "\n",
      "Sling Blade \n",
      "imdb ID:  tt0117666 \n",
      "\n",
      "Dragon Blade \n",
      "imdb ID:  tt3672840 \n",
      "\n",
      "Blade of the Immortal \n",
      "imdb ID:  tt5084170 \n",
      "\n",
      "Shinobi: Heart Under Blade \n",
      "imdb ID:  tt0475723 \n",
      "\n",
      "Blade Runner: Black Out 2022 \n",
      "imdb ID:  tt7428594 \n",
      "\n"
     ]
    }
   ],
   "source": [
    "for a in results['Search']:\n",
    "    print(a['Title'], '\\nimdb ID: ',a['imdbID'],'\\n')"
   ]
  },
  {
   "cell_type": "markdown",
   "metadata": {},
   "source": [
    "# Part 2"
   ]
  },
  {
   "cell_type": "markdown",
   "metadata": {},
   "source": [
    "## (d) Write a small program in Python or Java that \n",
    "### (i) connects to your local SQL instance \n",
    "(MySQL, MariaDB, and SQLite are the only acceptable versions. Choose either at your convenience. Use user \"root\" and NO passwords)"
   ]
  },
  {
   "cell_type": "code",
   "execution_count": 58,
   "metadata": {
    "ExecuteTime": {
     "end_time": "2020-01-28T22:43:55.816848Z",
     "start_time": "2020-01-28T22:43:55.792892Z"
    }
   },
   "outputs": [],
   "source": [
    "conn = mysql.connector.connect(host='localhost',user='root',password='')\n",
    "cursor = conn.cursor()"
   ]
  },
  {
   "cell_type": "markdown",
   "metadata": {},
   "source": [
    "### (ii) creates a database named \"ucdavis\""
   ]
  },
  {
   "cell_type": "code",
   "execution_count": 60,
   "metadata": {
    "ExecuteTime": {
     "end_time": "2020-01-28T22:55:52.751790Z",
     "start_time": "2020-01-28T22:55:52.749547Z"
    }
   },
   "outputs": [],
   "source": [
    "SQL_DB = 'ucdavis'\n",
    "cursor.execute('CREATE DATABASE IF NOT EXISTS ucdavis')"
   ]
  },
  {
   "cell_type": "markdown",
   "metadata": {},
   "source": [
    "### (iii) creates the table \"omdb_test\" containing the columns \"imdb_id\", \"title\", and \"year\". \n",
    "This small code will create an empty table."
   ]
  },
  {
   "cell_type": "code",
   "execution_count": 68,
   "metadata": {
    "ExecuteTime": {
     "end_time": "2020-01-28T23:04:19.388471Z",
     "start_time": "2020-01-28T23:04:19.214301Z"
    }
   },
   "outputs": [],
   "source": [
    "SQL_TABLE = 'omdb_test'\n",
    "\n",
    "TABLE_DEF = '''(id INT NOT NULL AUTO_INCREMENT PRIMARY KEY, imdb_id VARCHAR(20), title VARCHAR(100), year INT)'''\n",
    "\n",
    "cursor.execute(\"CREATE TABLE IF NOT EXISTS \" + SQL_DB + \".\" + SQL_TABLE + \" \" + TABLE_DEF + \";\")"
   ]
  },
  {
   "cell_type": "code",
   "execution_count": 72,
   "metadata": {
    "ExecuteTime": {
     "end_time": "2020-01-28T23:07:02.549176Z",
     "start_time": "2020-01-28T23:07:02.538211Z"
    }
   },
   "outputs": [
    {
     "data": {
      "text/html": [
       "<div>\n",
       "<style scoped>\n",
       "    .dataframe tbody tr th:only-of-type {\n",
       "        vertical-align: middle;\n",
       "    }\n",
       "\n",
       "    .dataframe tbody tr th {\n",
       "        vertical-align: top;\n",
       "    }\n",
       "\n",
       "    .dataframe thead th {\n",
       "        text-align: right;\n",
       "    }\n",
       "</style>\n",
       "<table border=\"1\" class=\"dataframe\">\n",
       "  <thead>\n",
       "    <tr style=\"text-align: right;\">\n",
       "      <th></th>\n",
       "      <th>id</th>\n",
       "      <th>imdb_id</th>\n",
       "      <th>title</th>\n",
       "      <th>year</th>\n",
       "    </tr>\n",
       "  </thead>\n",
       "  <tbody>\n",
       "  </tbody>\n",
       "</table>\n",
       "</div>"
      ],
      "text/plain": [
       "Empty DataFrame\n",
       "Columns: [id, imdb_id, title, year]\n",
       "Index: []"
      ]
     },
     "execution_count": 72,
     "metadata": {},
     "output_type": "execute_result"
    }
   ],
   "source": [
    "# verifying the table creation\n",
    "\n",
    "pd.read_sql(f'select * from {SQL_DB}.{SQL_TABLE}', conn)"
   ]
  }
 ],
 "metadata": {
  "kernelspec": {
   "display_name": "Python 3",
   "language": "python",
   "name": "python3"
  },
  "language_info": {
   "codemirror_mode": {
    "name": "ipython",
    "version": 3
   },
   "file_extension": ".py",
   "mimetype": "text/x-python",
   "name": "python",
   "nbconvert_exporter": "python",
   "pygments_lexer": "ipython3",
   "version": "3.7.3"
  },
  "toc": {
   "base_numbering": 1,
   "nav_menu": {},
   "number_sections": false,
   "sideBar": true,
   "skip_h1_title": false,
   "title_cell": "Table of Contents",
   "title_sidebar": "Contents",
   "toc_cell": true,
   "toc_position": {},
   "toc_section_display": true,
   "toc_window_display": true
  },
  "varInspector": {
   "cols": {
    "lenName": 16,
    "lenType": 16,
    "lenVar": 40
   },
   "kernels_config": {
    "python": {
     "delete_cmd_postfix": "",
     "delete_cmd_prefix": "del ",
     "library": "var_list.py",
     "varRefreshCmd": "print(var_dic_list())"
    },
    "r": {
     "delete_cmd_postfix": ") ",
     "delete_cmd_prefix": "rm(",
     "library": "var_list.r",
     "varRefreshCmd": "cat(var_dic_list()) "
    }
   },
   "types_to_exclude": [
    "module",
    "function",
    "builtin_function_or_method",
    "instance",
    "_Feature"
   ],
   "window_display": false
  }
 },
 "nbformat": 4,
 "nbformat_minor": 2
}
